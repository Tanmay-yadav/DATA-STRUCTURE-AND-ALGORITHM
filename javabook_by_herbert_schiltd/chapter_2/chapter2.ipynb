{
 "cells": [
  {
   "cell_type": "markdown",
   "metadata": {},
   "source": [
    "# CHAPTER 2- AN OVERVIEW OF JAVA\n"
   ]
  },
  {
   "cell_type": "markdown",
   "metadata": {},
   "source": [
    "## OBJECT ORIENTED PROGRAMMING\n",
    "Here's a brief and simple definition of Object-Oriented Programming (OOP):\n",
    "\n",
    "**Object-Oriented Programming (OOP)** is a programming style that uses \"objects\" to represent data and functions. Objects are created from \"classes,\" which are like blueprints. OOP helps organize code into reusable pieces, making it easier to manage and maintain. The main concepts of OOP are:\n",
    "\n",
    "1. **Classes**: Blueprints for creating objects.\n",
    "2. **Objects**: Instances of classes that hold data and methods.\n",
    "3. **Encapsulation**: Bundling data and methods together, hiding details.\n",
    "4. **Inheritance**: Sharing properties and methods between classes.\n",
    "5. **Polymorphism**: Using the same method name for different actions in different classes.\n",
    "6. **Abstraction**: Hiding complex details and showing only the essential features.\n",
    "\n",
    "In essence, OOP makes it easier to build and maintain complex programs by organizing code into manageable parts.\n",
    "\n",
    "\n",
    "\n"
   ]
  },
  {
   "cell_type": "markdown",
   "metadata": {},
   "source": [
    "###  Abstraction: \n",
    "* Abstraction in Java is a fundamental Object-Oriented Programming (OOP) concept that involves hiding complex implementation details and exposing only the essential features of an object. This simplifies interaction with objects and allows developers to focus on what an object does instead of how it does it "
   ]
  },
  {
   "cell_type": "markdown",
   "metadata": {},
   "source": [
    "### Encapsulation\n",
    "\n",
    "* It is the mechanism of binding the data and code it amnipulates and keeps both safe from outside interferece and misuse \n",
    "* Just like a car contains so many things working while applying brakes the drivers doesn't need to be overwhelmed by all the all the details it only need to know that on what input which kind of output  he will receive. The same idea can be appllied to programming . The power of  encapsulated code is that  everyone can access it and use it regardless of the details and  without the fear  of the unexpected side effects\n",
    "**class**:\n",
    "* A class define the structure and the behavior (data and code )  that will be shared by a set of objects.\n",
    "* The data is referred  to as member variables or instance variables .the code that operates on that sata is referred to as member methods or just methods."
   ]
  },
  {
   "cell_type": "markdown",
   "metadata": {},
   "source": [
    "### Inheritance \n",
    "* inheritance is the process in which one object acquires the properties of another object.\n",
    "* By the use of inheritance an object only needs  to  define those qualities that are unique within itss class.\n",
    "\n",
    "\n",
    "\n",
    "![inheritance ](https://th.bing.com/th/id/OIP.gkxw2zh3A73wT-5ma3LLfAHaDE?pid=ImgDet&w=474&h=196&rs=1)\n"
   ]
  },
  {
   "cell_type": "markdown",
   "metadata": {},
   "source": [
    "### Polymorphism\n",
    "* Polymorphism (from greek,meaning \"many forms\") is a feature that allows one interface to be used  for a general class of actions.The specific action is determined by the exact nature of the situation.\n",
    "* all the encasulation ,polymorphism, and inheritance collectively make a robust ,cohesive and maintainable program "
   ]
  },
  {
   "cell_type": "markdown",
   "metadata": {},
   "source": [
    "### First program\n",
    "* java is case sensitive and the name of the file should match with the main class "
   ]
  },
  {
   "cell_type": "code",
   "execution_count": 8,
   "metadata": {
    "vscode": {
     "languageId": "java"
    }
   },
   "outputs": [
    {
     "name": "stdout",
     "output_type": "stream",
     "text": [
      "this is a simple java program\n"
     ]
    }
   ],
   "source": [
    "/* this is a simple  java program \n",
    " call this file 'Example.java'\n",
    "\n",
    "*/\n",
    "\n",
    "class Example{\n",
    "    // your program begins with a call to main ()\n",
    "    public static void main (String args[]){\n",
    "        System.out.println(\"this is a simple java program\");\n",
    "    }\n",
    "}\n",
    "// To run the main method\n",
    "Example.main(null); // Call the main method"
   ]
  },
  {
   "cell_type": "code",
   "execution_count": 9,
   "metadata": {
    "vscode": {
     "languageId": "java"
    }
   },
   "outputs": [
    {
     "name": "stdout",
     "output_type": "stream",
     "text": [
      "hello\n"
     ]
    }
   ],
   "source": [
    "System.out.println(\"hello\");"
   ]
  },
  {
   "cell_type": "markdown",
   "metadata": {},
   "source": [
    "### compiling the program\n",
    "\n",
    "* use javac filename.java ->> this will make the .class of the file which contains the bytecode which is the intermediate representation of the code through which jvm executes the instructions.\n",
    "* After that form run the program use ->> java filename\n",
    "\n",
    "\n",
    "In Java, it's advisable to have the file name the same as the main class name for several reasons:\n",
    "\n",
    "### 1. **Consistency**\n",
    "Having the same name helps keep your project organized and makes it easier to identify which file contains which class. This is especially helpful when you have many files in your project.\n",
    "\n",
    "### 2. **Compiler Requirement**\n",
    "Java requires that the file name matches the main class name for **public classes**. If you name the file differently, the compiler will throw an error. For example:\n",
    "- If you have a public class named `Example`, you must name the file `Example.java`. If you name it `Test.java`, you will get a compilation error.\n",
    "\n",
    "### 3. **Ease of Use**\n",
    "When you or someone else looks at the code later, it's clear which file contains which class. This makes it easier to navigate the codebase, especially in larger projects.\n",
    "\n",
    "### 4. **Avoiding Confusion**\n",
    "If the file name and class name are different, it can lead to confusion about where to find the implementation of a particular class. This can slow down development and make the code harder to maintain.\n",
    "\n",
    "### Summary\n",
    "In simple words, having the same name for the file and the main class makes your Java program easier to understand, follow Java's rules, and prevents errors during compilation. It's a good practice that helps keep your code organized and maintainable.\n",
    "\n",
    "\n",
    "If you do not follow the convention of naming your Java file the same as the main class name, especially for public classes, you will encounter the following issues:\n",
    "\n",
    "### 1. **Compilation Error**\n",
    "If your main class is declared as `public`, and the file name does not match the class name, the Java compiler will throw an error similar to this:\n",
    "\n",
    "```\n",
    "Error: Class Example is public, should be declared in a file named Example.java\n",
    "```\n",
    "\n",
    "This means that the compiler cannot find a file that matches the public class name, and therefore it cannot compile the code.\n",
    "\n",
    "### 2. **Runtime Errors**\n",
    "While the file naming convention itself primarily affects compilation, not adhering to it can lead to confusion and mistakes in code structure, potentially leading to runtime errors. For example:\n",
    "- If someone else is reading your code and tries to run it based on the file name, they may end up executing the wrong class or get confused about which class to run.\n",
    "\n",
    "### 3. **Code Maintenance Challenges**\n",
    "When working in a team or returning to your own code after some time, having inconsistent naming can lead to several problems:\n",
    "- **Difficulty in Navigation:** If the file names don’t match the class names, it becomes harder to find the implementation of a specific class.\n",
    "- **Increased Debugging Time:** When debugging or modifying the code, having to constantly check file names can slow down the development process.\n",
    "\n",
    "### 4. **Project Structure Confusion**\n",
    "In larger projects with multiple classes and packages, not following the naming convention can lead to a chaotic structure, making it hard to understand the relationships between different parts of the project.\n",
    "\n",
    "### Summary\n",
    "In summary, failing to match the file name with the main class name can lead to compilation errors, confusion during development, maintenance challenges, and increased debugging time. It's essential to follow this convention to ensure smooth coding practices and maintain a well-organized codebase.\n"
   ]
  },
  {
   "cell_type": "markdown",
   "metadata": {},
   "source": [
    "### example 2"
   ]
  },
  {
   "cell_type": "code",
   "execution_count": 9,
   "metadata": {
    "vscode": {
     "languageId": "java"
    }
   },
   "outputs": [
    {
     "name": "stdout",
     "output_type": "stream",
     "text": [
      "the value of num is 100\n",
      "the value of num*2 is200\n"
     ]
    }
   ],
   "source": [
    "/*here is another short example \n",
    " call this file \"Example@.java\"\n",
    " */\n",
    "class Example2{\n",
    "    public static void main(String args[]){\n",
    "        int num; //this declares a variable called num\n",
    "        num =100; // this assign num the value 100\n",
    "        System.out.println(\"the value of num is \"+num);\n",
    "        num =num*2;\n",
    "        System.out.print(\"the value of num*2 is\");\n",
    "        System.out.println(num);\n",
    "    }\n",
    "}\n",
    "// To run the main method\n",
    "Example2.main(null); // Call the main method\n"
   ]
  },
  {
   "cell_type": "markdown",
   "metadata": {},
   "source": [
    "## control statements\n",
    "1. The if statement\n",
    "2. The for loop\n"
   ]
  },
  {
   "cell_type": "markdown",
   "metadata": {},
   "source": [
    "### If statement :\n",
    "* syntax ->> if(condition){code }\n",
    "* condition is bollean i.e yes/no OR /true/false"
   ]
  },
  {
   "cell_type": "code",
   "execution_count": 12,
   "metadata": {
    "vscode": {
     "languageId": "java"
    }
   },
   "outputs": [
    {
     "name": "stdout",
     "output_type": "stream",
     "text": [
      "x is less than y\n",
      "x is equal to y\n",
      "x is greater than y\n"
     ]
    }
   ],
   "source": [
    "/*Demonstrate the if.\n",
    " call this file \"Ifsample.java\"\n",
    " */\n",
    "class Ifsample{\n",
    "    public static void main(String args[]){\n",
    "        int x,y;\n",
    "        x=10;\n",
    "        y=20;\n",
    "        if(x<y) System.out.println(\"x is less than y\");\n",
    "        x=x*2;\n",
    "        if(x==y) System.out.println(\"x is equal to y\");\n",
    "\n",
    "        x=x*2;\n",
    "        if(x>y) System.out.println(\"x is greater than y\");\n",
    "\n",
    "        // this wont display anything\n",
    "        if(x==y) System.out.println(\"you will not see this\");\n",
    "\n",
    "    }\n",
    "}\n",
    "Ifsample.main(null);"
   ]
  },
  {
   "cell_type": "markdown",
   "metadata": {},
   "source": [
    "### for loop:\n",
    "* syntax-->> for(initialization;conditon;itteration){statment}\n",
    "* condition is boolean\n"
   ]
  },
  {
   "cell_type": "code",
   "execution_count": 15,
   "metadata": {
    "vscode": {
     "languageId": "java"
    }
   },
   "outputs": [
    {
     "name": "stdout",
     "output_type": "stream",
     "text": [
      "this is x:0\n",
      "this is x:1\n",
      "this is x:2\n",
      "this is x:3\n",
      "this is x:4\n",
      "this is x:5\n",
      "this is x:6\n",
      "this is x:7\n",
      "this is x:8\n",
      "this is x:9\n"
     ]
    }
   ],
   "source": [
    "/*Demonstrate the for loop \n",
    " call this file \"Fortest.java\"\n",
    " */\n",
    "class Fortest{\n",
    "   \n",
    "   public static void main(String args[]){ int x;\n",
    "    for(x=0;x<10;x++){\n",
    "        System.out.println(\"this is x:\"+x);\n",
    "    }\n",
    "}\n",
    "}\n",
    "\n",
    "Fortest.main(null);"
   ]
  },
  {
   "cell_type": "markdown",
   "metadata": {},
   "source": [
    "Here’s a breakdown of these Java fundamentals:\n",
    "\n",
    "### 1. **Lexical Issues in Java**\n",
    "Lexical issues in Java involve rules that define the structure of code elements, including how tokens (smallest units like keywords, operators, identifiers) are formed. Lexical analysis involves scanning the source code to break it into tokens.\n",
    "\n",
    "### 2. **Whitespace in Java**\n",
    "Whitespace refers to spaces, tabs, and newline characters in Java. Although Java ignores extra whitespace, it is essential for separating identifiers, keywords, and operators. For example:\n",
    "```java\n",
    "int num = 100; // Valid\n",
    "intnum = 100;  // Invalid, missing whitespace between int and num\n",
    "```\n",
    "Java allows free formatting with whitespace, but using proper indentation improves code readability.\n",
    "\n",
    "### 3. **Identifiers in Java**\n",
    "Identifiers are names given to variables, methods, classes, and other elements. They help uniquely identify an entity in a program. The rules for identifiers:\n",
    "- Must begin with a letter, underscore (`_`), or dollar sign (`$`).\n",
    "- Can contain letters, digits (0-9), underscores, and dollar signs.\n",
    "- Case-sensitive: `myVar` and `myvar` are different.\n",
    "- Cannot be a reserved keyword.\n",
    "  \n",
    "Examples:\n",
    "```java\n",
    "int myVar = 10;  // Valid\n",
    "int 123num = 10; // Invalid, starts with a number\n",
    "```\n",
    "\n",
    "### 4. **Literals in Java**\n",
    "Literals represent fixed values directly assigned to variables. There are different types of literals in Java:\n",
    "\n",
    "- **Integer literals**: Whole numbers like `10`, `100`, `-5`.\n",
    "- **Floating-point literals**: Numbers with decimals like `3.14`, `-0.001`.\n",
    "- **Character literals**: Single characters inside single quotes, like `'a'`, `'Z'`.\n",
    "- **String literals**: A sequence of characters inside double quotes, like `\"Hello\"`, `\"World\"`.\n",
    "- **Boolean literals**: `true` or `false`.\n",
    "\n",
    "Example:\n",
    "```java\n",
    "int num = 100; // 100 is an integer literal\n",
    "String text = \"Hello\"; // \"Hello\" is a string literal\n",
    "```\n",
    "\n",
    "### 5. **Comments in Java**\n",
    "Comments are notes written within the code to explain parts of the program. Java ignores comments during execution. There are three types:\n",
    "\n",
    "- **Single-line comments**: Start with `//` and continue until the end of the line.\n",
    "  ```java\n",
    "  // This is a single-line comment\n",
    "  ```\n",
    "- **Multi-line comments**: Start with `/*` and end with `*/`. These comments span multiple lines.\n",
    "  ```java\n",
    "  /* This is a \n",
    "     multi-line comment */\n",
    "  ```\n",
    "- **Javadoc comments**: Start with `/**` and end with `*/`. They are used to generate documentation and often contain special tags.\n",
    "  ```java\n",
    "  /**\n",
    "   * This is a Javadoc comment.\n",
    "   * @param args Command-line arguments\n",
    "   */\n",
    "  ```\n",
    "\n",
    "### 6. **Separators in Java**\n",
    "Separators are symbols used to group and organize code. Java has the following separators:\n",
    "- **Parentheses `()`**: Used for method calls and grouping expressions.\n",
    "  ```java\n",
    "  System.out.println(\"Hello\"); // Method call\n",
    "  ```\n",
    "- **Braces `{}`**: Used to define blocks of code (e.g., classes, methods, loops).\n",
    "  ```java\n",
    "  { \n",
    "    // Block of code \n",
    "  }\n",
    "  ```\n",
    "- **Brackets `[]`**: Used to define arrays.\n",
    "  ```java\n",
    "  int[] numbers = {1, 2, 3};\n",
    "  ```\n",
    "- **Semicolon `;`**: Terminates a statement.\n",
    "  ```java\n",
    "  int x = 10;\n",
    "  ```\n",
    "- **Comma `,`**: Separates variables in a declaration or parameters in a method call.\n",
    "  ```java\n",
    "  int a = 10, b = 20;\n",
    "  ```\n",
    "- **Period `.`**: Used to access methods and fields in an object.\n",
    "  ```java\n",
    "  System.out.println();\n",
    "  ```\n",
    "\n",
    "### 7. **The Java Keywords**\n",
    "Keywords are reserved words in Java that have a specific meaning and purpose. You cannot use them as identifiers. Examples include:\n",
    "\n",
    "- **Control flow**: `if`, `else`, `switch`, `case`, `for`, `while`, `do`, `break`, `continue`, `return`\n",
    "- **Data types**: `int`, `float`, `boolean`, `char`, `double`, `long`\n",
    "- **Access modifiers**: `private`, `public`, `protected`\n",
    "- **Class and object-related**: `class`, `extends`, `implements`, `new`, `this`, `super`\n",
    "- **Exception handling**: `try`, `catch`, `finally`, `throw`, `throws`\n",
    "- **Miscellaneous**: `static`, `final`, `void`, `abstract`, `interface`\n",
    "\n",
    "Example:\n",
    "```java\n",
    "class Example { // 'class' is a keyword\n",
    "    public static void main(String[] args) { // 'public', 'static', 'void' are keywords\n",
    "        int num = 100; // 'int' is a keyword\n",
    "    }\n",
    "}\n",
    "```\n",
    "\n",
    "### 8. **The Java Class Libraries (Java API)**\n",
    "Java Class Libraries (or Java API) are a set of pre-built classes and methods that help programmers solve common tasks without writing everything from scratch. These libraries are organized into packages.\n",
    "\n",
    "- **Common Packages**:\n",
    "  - `java.lang`: Contains fundamental classes like `String`, `Math`, `Object`.\n",
    "  - `java.util`: Provides utility classes like `ArrayList`, `HashMap`, `Date`.\n",
    "  - `java.io`: Contains classes for input and output operations, such as `File`, `BufferedReader`.\n",
    "  - `java.net`: Deals with networking operations, such as `Socket`, `URL`.\n",
    "  - `java.sql`: Contains classes for database access via JDBC.\n",
    "  \n",
    "The Java API is extensive, providing classes for everything from data structures and algorithms to file handling, networking, GUI development, and more.\n",
    "\n",
    "Example of using Java libraries:\n",
    "```java\n",
    "import java.util.ArrayList;\n",
    "\n",
    "public class Example {\n",
    "    public static void main(String[] args) {\n",
    "        ArrayList<String> list = new ArrayList<>();\n",
    "        list.add(\"Hello\");\n",
    "        System.out.println(list.get(0)); // Output: Hello\n",
    "    }\n",
    "}\n",
    "```\n",
    "\n",
    "---\n",
    "\n",
    "This covers the key concepts of lexical issues, whitespace, identifiers, literals, comments, separators, Java keywords, and class libraries. Let me know if you need further clarification or examples!"
   ]
  },
  {
   "cell_type": "markdown",
   "metadata": {},
   "source": [
    "![separators](separators.jpeg)\n",
    "\n",
    "\n",
    "![keywods](List-of-Java-keywords.webp)"
   ]
  },
  {
   "cell_type": "code",
   "execution_count": null,
   "metadata": {
    "vscode": {
     "languageId": "java"
    }
   },
   "outputs": [],
   "source": []
  }
 ],
 "metadata": {
  "kernelspec": {
   "display_name": "Java",
   "language": "java",
   "name": "java"
  },
  "language_info": {
   "codemirror_mode": "java",
   "file_extension": ".jshell",
   "mimetype": "text/x-java-source",
   "name": "Java",
   "pygments_lexer": "java",
   "version": "23+37-2369"
  }
 },
 "nbformat": 4,
 "nbformat_minor": 2
}
