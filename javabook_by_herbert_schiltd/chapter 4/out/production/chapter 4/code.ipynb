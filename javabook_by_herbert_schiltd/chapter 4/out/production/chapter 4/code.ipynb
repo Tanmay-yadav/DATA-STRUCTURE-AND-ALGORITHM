{
 "cells": [
  {
   "cell_type": "markdown",
   "metadata": {},
   "source": [
    "# using the bitwise logical operators\n"
   ]
  },
  {
   "cell_type": "code",
   "execution_count": 4,
   "metadata": {
    "vscode": {
     "languageId": "java"
    }
   },
   "outputs": [],
   "source": [
    "// demonstrate the bitwise logical operators\n",
    "class bitlogic{\n",
    "    public static void main(String args[]){\n",
    "        String binary[]={\n",
    "        \"0000\",\"0001\",\"0010\",\"0011\",\"0100\",\"0101\",\"0110\",\"0111\"\n",
    "        ,\"1000\",\"1001\",\"1010\",\"1100\",\"1101\",\"1110\",\"1111\"\n",
    "        };\n",
    "        int a=3;//0+2+1 or 0011 in binary\n",
    "        int b=6;//4+2+0 or 0110 in binary\n",
    "        int c=a|b;\n",
    "        int d=a&b;\n",
    "        int e =a ^b;\n",
    "        int f =(~a &b)|(a &~b);\n",
    "        int g =~a &0x0f;\n",
    "        System.out.println(\"a =\"+ binary[a]);\n",
    "        System.out.println(\"b\"+ binary[b]);\n",
    "        System.out.println(\"a|b \"+ binary[c]);\n",
    "        System.out.println(\"a&b\"+ binary[d]);\n",
    "        System.out.println(\"a^b\"+ binary[e]);\n",
    "        System.out.println(\"~a&b|a&~b\"+ binary[f]);\n",
    "        System.out.println(\"~a\"+ binary[g]);\n",
    "        \n",
    "    }\n",
    "}"
   ]
  },
  {
   "cell_type": "code",
   "execution_count": null,
   "metadata": {
    "vscode": {
     "languageId": "java"
    }
   },
   "outputs": [],
   "source": []
  }
 ],
 "metadata": {
  "kernelspec": {
   "display_name": "Java",
   "language": "java",
   "name": "java"
  },
  "language_info": {
   "codemirror_mode": "java",
   "file_extension": ".jshell",
   "mimetype": "text/x-java-source",
   "name": "Java",
   "pygments_lexer": "java",
   "version": "23+37-2369"
  }
 },
 "nbformat": 4,
 "nbformat_minor": 2
}
